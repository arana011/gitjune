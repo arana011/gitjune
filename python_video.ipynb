{
  "nbformat": 4,
  "nbformat_minor": 0,
  "metadata": {
    "colab": {
      "provenance": []
    },
    "kernelspec": {
      "name": "python3",
      "display_name": "Python 3"
    },
    "language_info": {
      "name": "python"
    }
  },
  "cells": [
    {
      "cell_type": "code",
      "execution_count": null,
      "metadata": {
        "colab": {
          "base_uri": "https://localhost:8080/"
        },
        "id": "kqoj1d-uMPIz",
        "outputId": "6d0c9761-fa80-448f-8d6f-14f436524526"
      },
      "outputs": [
        {
          "output_type": "stream",
          "name": "stdout",
          "text": [
            "   /|\n",
            "  / |\n",
            " /  |\n",
            "/___|\n"
          ]
        }
      ],
      "source": [
        "print(\"   /|\")\n",
        "print(\"  / |\")\n",
        "print(' /  |')\n",
        "print(\"/___|\")"
      ]
    },
    {
      "cell_type": "code",
      "source": [
        "# Statements are printed one by one, but changing the character's name or age can be tedious.\n",
        "print(\"There once was a man named John, \")\n",
        "print(\"he was 70 years old, \")\n",
        "print(\"He really liked the name John, \")\n",
        "print(\"but didn't like being 70.\")\n",
        "print(\"\\n\")\n",
        "# Character's name and age can be stored in variables, so that changes can be executed at once.\n",
        "character_name = \"abhi\"\n",
        "character_age = \"25\"\n",
        "\n",
        "print(\"There once was a man named \" + character_name + \", \")\n",
        "print(\"he was \" + character_age + \" years old, \")\n",
        "print(\"He really liked the name \" + character_name + \", \")\n",
        "print(\"but didn't like being \" + character_age + \".\")\n",
        "print(\"\\n\")\n",
        "# The variable can be changed mid-execution.\n",
        "character_name = \"Tom\"\n",
        "character_age = \"50\"\n",
        "\n",
        "print(\"There once was a man named \" + character_name + \", \")\n",
        "print(\"he was \" + character_age + \" years old, \")\n",
        "print(\"\\n\")\n",
        "character_name = \"Mike\"\n",
        "\n",
        "print(\"He really liked the name \" + character_name + \", \")\n",
        "print(\"but didn't like being \" + character_age + \".\")\n",
        "print(\"\\n\")"
      ],
      "metadata": {
        "colab": {
          "base_uri": "https://localhost:8080/"
        },
        "id": "nIvZpvZVMPo_",
        "outputId": "187aa884-efe2-4325-b3cd-d386a65b0ae9"
      },
      "execution_count": null,
      "outputs": [
        {
          "output_type": "stream",
          "name": "stdout",
          "text": [
            "There once was a man named John, \n",
            "he was 70 years old, \n",
            "He really liked the name John, \n",
            "but didn't like being 70.\n",
            "\n",
            "\n",
            "There once was a man named abhi, \n",
            "he was 25 years old, \n",
            "He really liked the name abhi, \n",
            "but didn't like being 25.\n",
            "\n",
            "\n",
            "There once was a man named Tom, \n",
            "he was 50 years old, \n",
            "\n",
            "\n",
            "He really liked the name Mike, \n",
            "but didn't like being 50.\n",
            "\n",
            "\n"
          ]
        }
      ]
    },
    {
      "cell_type": "code",
      "source": [
        "# Print a simple string.\n",
        "print(\"Giraffe Academy\")\n",
        "print(\"\\n\")\n",
        "# Print a string with two words which are separated by new line.\n",
        "print(\"Giraffe \\nAcademy\")\n",
        "print(\"\\n\")\n",
        "# String can stored in a variable.\n",
        "phrase = \"Giraffe Academy\"\n",
        "print(\"\\n\")\n",
        "# String can be concatenated inside the \"print\" function.\n",
        "print(phrase + \" is cool.\")\n",
        "print(\"\\n\")\n",
        "# Every letter in the string is capitalized with the \"upper\" function.\n",
        "print(phrase.upper())\n",
        "print(\"\\n\")\n",
        "# Different string functions can be chained together.\n",
        "print(phrase.upper().isupper())\n",
        "print(\"\\n\")\n",
        "# \"len\" function returns the length of the string.\n",
        "print(len(phrase))\n",
        "print(\"\\n\")\n",
        "# Letters from string can be printed using \"[]\" and their index.\n",
        "print(phrase[0])\n",
        "print(\"\\n\")\n",
        "# \"index\" function returns the index number of the letter where it first encountered it.\n",
        "print(phrase.index(\"G\"))\n",
        "print(\"\\n\")\n",
        "# \"index\" function can even return the index number of the phrase where it first encountered it.\n",
        "print(phrase.index(\"Acad\"))\n",
        "print(\"\\n\")\n",
        "# \"replace\" function replace a portion of the string it matches.\n",
        "print(phrase.replace(\"Giraffe\", \"Elephant\"))"
      ],
      "metadata": {
        "colab": {
          "base_uri": "https://localhost:8080/"
        },
        "id": "yjpDuAlA-eN0",
        "outputId": "68fe5f78-5dd2-4967-d790-e9255484be50"
      },
      "execution_count": 3,
      "outputs": [
        {
          "output_type": "stream",
          "name": "stdout",
          "text": [
            "Giraffe Academy\n",
            "\n",
            "\n",
            "Giraffe \n",
            "Academy\n",
            "\n",
            "\n",
            "\n",
            "\n",
            "Giraffe Academy is cool.\n",
            "\n",
            "\n",
            "GIRAFFE ACADEMY\n",
            "\n",
            "\n",
            "True\n",
            "\n",
            "\n",
            "15\n",
            "\n",
            "\n",
            "G\n",
            "\n",
            "\n",
            "0\n",
            "\n",
            "\n",
            "8\n",
            "\n",
            "\n",
            "Elephant Academy\n"
          ]
        }
      ]
    },
    {
      "cell_type": "code",
      "source": [
        "print(phrase.upper().isupper())"
      ],
      "metadata": {
        "id": "Stjxwgvm-eWR",
        "colab": {
          "base_uri": "https://localhost:8080/"
        },
        "outputId": "e088b9be-594a-4abf-c954-545c24fe3105"
      },
      "execution_count": 4,
      "outputs": [
        {
          "output_type": "stream",
          "name": "stdout",
          "text": [
            "True\n"
          ]
        }
      ]
    },
    {
      "cell_type": "code",
      "source": [
        "from math import *\n",
        "print(floor(3.7))\n",
        "print(ceil(3.7))\n",
        "print(sqrt(36))"
      ],
      "metadata": {
        "id": "XRf2gjYhMPrK",
        "colab": {
          "base_uri": "https://localhost:8080/"
        },
        "outputId": "a78bc2ce-4d29-4b50-ceb1-bec825c9d5b9"
      },
      "execution_count": 7,
      "outputs": [
        {
          "output_type": "stream",
          "name": "stdout",
          "text": [
            "3\n",
            "4\n",
            "6.0\n"
          ]
        }
      ]
    },
    {
      "cell_type": "code",
      "source": [
        "name = input(\"Enter your name: \")\n",
        "age = input(\"Enter your age: \")\n",
        "\n",
        "print(\"Hello \" + name + \"! You are is \" + age + \".\")"
      ],
      "metadata": {
        "id": "6nL9hmEbMPtp",
        "colab": {
          "base_uri": "https://localhost:8080/"
        },
        "outputId": "56c2bcc1-85d4-4a89-e3f8-87fdeb00490b"
      },
      "execution_count": 8,
      "outputs": [
        {
          "output_type": "stream",
          "name": "stdout",
          "text": [
            "Enter your name: abhi\n",
            "Enter your age: 25\n",
            "Hello abhi! You are is 25.\n"
          ]
        }
      ]
    },
    {
      "cell_type": "code",
      "source": [
        "# Input from a user is stored as a string by default.\n",
        "num1 = input(\"Enter a number: \")\n",
        "num2 = input(\"Enter another number: \")\n",
        "result =int(num1)  + int(num2)\n",
        "\n",
        "print(result)\n",
        "\n",
        "# If the input is valid, \"float\" function can turn the input string into float and then perform the desired operation.\n",
        "result = float(num1) + float(num2)\n",
        "\n",
        "print(result)"
      ],
      "metadata": {
        "id": "cPXwvF8zMPv7",
        "colab": {
          "base_uri": "https://localhost:8080/"
        },
        "outputId": "bd0ba6c0-bafd-4d30-e014-789dfce6425a"
      },
      "execution_count": 12,
      "outputs": [
        {
          "output_type": "stream",
          "name": "stdout",
          "text": [
            "Enter a number: 56\n",
            "Enter another number: 67\n",
            "123\n",
            "123.0\n"
          ]
        }
      ]
    },
    {
      "cell_type": "code",
      "source": [
        "# User's inputs can be used to create a short \"Mad Libs Game\".\n",
        "color = input(\"Enter a color: \")\n",
        "plural_noun = input(\"Enter a plural noun: \")\n",
        "celebrity = input(\"Enter a celebrity: \")\n",
        "\n",
        "print(\"Roses are \" + color + \",\")\n",
        "print(plural_noun + \" are blue,\")\n",
        "print(\"I love \" + celebrity + \".\")"
      ],
      "metadata": {
        "id": "66ekRyuSMPy2",
        "colab": {
          "base_uri": "https://localhost:8080/"
        },
        "outputId": "582581b3-07da-4104-cdef-5d76a27e3e74"
      },
      "execution_count": 13,
      "outputs": [
        {
          "output_type": "stream",
          "name": "stdout",
          "text": [
            "Enter a color: red\n",
            "Enter a plural noun: work\n",
            "Enter a celebrity: taylor\n",
            "Roses are red,\n",
            "work are blue,\n",
            "I love taylor.\n"
          ]
        }
      ]
    },
    {
      "cell_type": "code",
      "source": [
        "print(f\"Roses are {color},\")\n",
        "print(f\"{plural_noun} are blue,\")\n",
        "print(f\"I love {celebrity}\")"
      ],
      "metadata": {
        "id": "fGcgHbioMP2Z",
        "colab": {
          "base_uri": "https://localhost:8080/"
        },
        "outputId": "bf125f48-00ef-4510-dde2-5c0ffa4c1dde"
      },
      "execution_count": 14,
      "outputs": [
        {
          "output_type": "stream",
          "name": "stdout",
          "text": [
            "Roses are red,\n",
            "work are blue,\n",
            "I love taylor\n"
          ]
        }
      ]
    },
    {
      "cell_type": "code",
      "source": [
        "# Lists are defined by using \"[]\" and inserting elements between these brackets.\n",
        "friends = [\"Kevin\", \"Karen\", \"Jim\", \"Oscar\", \"Toby\"]\n",
        "\n",
        "# Print all the elements in the list.\n",
        "print(friends)\n",
        "\n",
        "# Print the first element in the list.\n",
        "print(friends[0])\n",
        "\n",
        "# Print the last element in the list.\n",
        "print(friends[-1])\n",
        "\n",
        "# Print all elements in the list starting from the second one.\n",
        "print(friends[1:])\n",
        "\n",
        "# Print all elements in the list from the second one up to the third one.\n",
        "print(friends[1:3])\n",
        "\n",
        "# Replace the second element in the list and print it.\n",
        "friends[1] = \"Mike\"\n",
        "\n",
        "print(friends[1])"
      ],
      "metadata": {
        "colab": {
          "base_uri": "https://localhost:8080/"
        },
        "id": "0sIQGiQELdvH",
        "outputId": "168fe7ef-09bb-4493-8b00-26b350d39141"
      },
      "execution_count": 15,
      "outputs": [
        {
          "output_type": "stream",
          "name": "stdout",
          "text": [
            "['Kevin', 'Karen', 'Jim', 'Oscar', 'Toby']\n",
            "Kevin\n",
            "Toby\n",
            "['Karen', 'Jim', 'Oscar', 'Toby']\n",
            "['Karen', 'Jim']\n",
            "Mike\n"
          ]
        }
      ]
    },
    {
      "cell_type": "code",
      "source": [
        "friends"
      ],
      "metadata": {
        "colab": {
          "base_uri": "https://localhost:8080/"
        },
        "id": "yq3ee44tLdxg",
        "outputId": "49652362-cf12-4698-98a4-0f2ae778f08f"
      },
      "execution_count": 16,
      "outputs": [
        {
          "output_type": "execute_result",
          "data": {
            "text/plain": [
              "['Kevin', 'Mike', 'Jim', 'Oscar', 'Toby']"
            ]
          },
          "metadata": {},
          "execution_count": 16
        }
      ]
    },
    {
      "cell_type": "code",
      "source": [
        "# Define two new list.\n",
        "lucky_numbers = [4, 8, 15, 16, 23, 42]\n",
        "friends = [\"Kevin\", \"Karen\", \"Jim\", \"Oscar\", \"Toby\"]\n",
        "\n",
        "# \"extend\" function extends the original list with the one used as argument.\n",
        "friends.extend(lucky_numbers)\n",
        "print(friends)\n",
        "\n",
        "# \"append\" function appends a new element to the end of the list.\n",
        "friends = [\"Kevin\", \"Karen\", \"Jim\", \"Oscar\", \"Toby\"]\n",
        "friends.append(\"Creed\")\n",
        "print(friends)\n",
        "\n",
        "# \"insert\" function inserts a new element at the place given by the first argument.\n",
        "friends = [\"Kevin\", \"Karen\", \"Jim\", \"Oscar\", \"Toby\"]\n",
        "friends.insert(1, \"Kelly\")\n",
        "print(friends)\n",
        "\n",
        "# \"remove\" function removes an element given by the argument.\n",
        "friends = [\"Kevin\", \"Karen\", \"Jim\", \"Oscar\", \"Toby\"]\n",
        "friends.remove(\"Jim\")\n",
        "print(friends)\n",
        "\n",
        "# \"clear\" function empties the list.\n",
        "friends = [\"Kevin\", \"Karen\", \"Jim\", \"Oscar\", \"Toby\"]\n",
        "friends.clear()\n",
        "print(friends)\n",
        "\n",
        "# \"pop\" function removes the last element of the list.\n",
        "friends = [\"Kevin\", \"Karen\", \"Jim\", \"Oscar\", \"Toby\"]\n",
        "friends.pop()\n",
        "\n",
        "print(friends)\n",
        "\n",
        "# \"index\" function return the index of the element given by the argument.\n",
        "friends = [\"Kevin\", \"Karen\", \"Jim\", \"Oscar\", \"Toby\"]\n",
        "\n",
        "print(friends.index(\"Oscar\"))\n",
        "\n",
        "# \"count\" function returns the number of times the element given by the argument appears in the list.\n",
        "friends = [\"Kevin\", \"Karen\", \"Jim\", \"Jim\", \"Oscar\", \"Toby\"]\n",
        "\n",
        "print(friends.count(\"Jim\"))\n",
        "\n",
        "# \"sort\" function sorts all the items in the list in alphabetical order.\n",
        "friends = [\"Kevin\", \"Karen\", \"Jim\", \"Oscar\", \"Toby\"]\n",
        "friends.sort()\n",
        "\n",
        "print(friends)\n",
        "\n",
        "# \"reverse\" function sorts all the items in the list in reverse alphabetical order.\n",
        "lucky_numbers.reverse()\n",
        "\n",
        "print(lucky_numbers)\n",
        "\n",
        "# \"copy\" function copies the whole list.\n",
        "friends = [\"Kevin\", \"Karen\", \"Jim\", \"Oscar\", \"Toby\"]\n",
        "friends2 = friends.copy()\n",
        "\n",
        "print(friends2)"
      ],
      "metadata": {
        "colab": {
          "base_uri": "https://localhost:8080/"
        },
        "id": "GQNRtYlkLdz2",
        "outputId": "b84d0a6c-fa9a-4922-d059-f2d70edc5b18"
      },
      "execution_count": 17,
      "outputs": [
        {
          "output_type": "stream",
          "name": "stdout",
          "text": [
            "['Kevin', 'Karen', 'Jim', 'Oscar', 'Toby', 4, 8, 15, 16, 23, 42]\n",
            "['Kevin', 'Karen', 'Jim', 'Oscar', 'Toby', 'Creed']\n",
            "['Kevin', 'Kelly', 'Karen', 'Jim', 'Oscar', 'Toby']\n",
            "['Kevin', 'Karen', 'Oscar', 'Toby']\n",
            "[]\n",
            "['Kevin', 'Karen', 'Jim', 'Oscar']\n",
            "3\n",
            "2\n",
            "['Jim', 'Karen', 'Kevin', 'Oscar', 'Toby']\n",
            "[42, 23, 16, 15, 8, 4]\n",
            "['Kevin', 'Karen', 'Jim', 'Oscar', 'Toby']\n"
          ]
        }
      ]
    },
    {
      "cell_type": "code",
      "source": [
        "# \"pop\" function removes the last element of the list.\n",
        "friends = [\"Kevin\", \"Karen\", \"Jim\", \"Oscar\", \"Toby\"]\n",
        "friends.pop()"
      ],
      "metadata": {
        "colab": {
          "base_uri": "https://localhost:8080/",
          "height": 35
        },
        "id": "pvr4um0PLd2Z",
        "outputId": "9bb78284-18e4-478f-d1bb-6e23d663154b"
      },
      "execution_count": 18,
      "outputs": [
        {
          "output_type": "execute_result",
          "data": {
            "text/plain": [
              "'Toby'"
            ],
            "application/vnd.google.colaboratory.intrinsic+json": {
              "type": "string"
            }
          },
          "metadata": {},
          "execution_count": 18
        }
      ]
    },
    {
      "cell_type": "code",
      "source": [
        "# Lists are created by using \"[]\" and inserting elements between these brackets.\n",
        "coordinates = [4, 5]\n",
        "coordinates[1] = 10\n",
        "\n",
        "print(coordinates[1])\n",
        "\n",
        "# Tuples are created by using \"()\" and inserting elements between these brackets.\n",
        "coordinates = (4, 5)\n",
        "# coordinates[1] = 10 - This line of code will throw an error - tuples are immutable.\n",
        "\n",
        "print(coordinates[1])\n",
        "\n",
        "# Tuples can be elements of a list.\n",
        "coordinates = [(4, 5), (6, 7), (80, 34)]\n",
        "\n",
        "print(coordinates[1])"
      ],
      "metadata": {
        "colab": {
          "base_uri": "https://localhost:8080/"
        },
        "id": "6bT_K6PMLd4Z",
        "outputId": "32a8f65f-aca2-4291-d13e-b703bf61de05"
      },
      "execution_count": 19,
      "outputs": [
        {
          "output_type": "stream",
          "name": "stdout",
          "text": [
            "10\n",
            "5\n",
            "(6, 7)\n"
          ]
        }
      ]
    },
    {
      "cell_type": "code",
      "source": [
        "# Functions are defined by using the \"def\" keyword.\n",
        "def say_hi(name, age):\n",
        "    print(\"Hello \" + name + \", your age is \" + age + \"!\")\n",
        "\n",
        "\n",
        "say_hi(\"Mike\", \"35\")\n",
        "\n",
        "\n",
        "# Functions like \"say_hi\" can even receive an integer if it is properly converted.\n",
        "def say_hi(name, age):\n",
        "    print(\"Hello \" + name + \", your age is \" + str(age) + \"!\")\n",
        "\n",
        "\n",
        "say_hi(\"Steve\", 70)"
      ],
      "metadata": {
        "colab": {
          "base_uri": "https://localhost:8080/"
        },
        "id": "7Gwe4BSgLd6v",
        "outputId": "52fa787a-cad0-4c36-bc52-164e82c33d67"
      },
      "execution_count": 20,
      "outputs": [
        {
          "output_type": "stream",
          "name": "stdout",
          "text": [
            "Hello Mike, your age is 35!\n",
            "Hello Steve, your age is 70!\n"
          ]
        }
      ]
    },
    {
      "cell_type": "code",
      "source": [
        "# \"return\" keyword is used at the end of a function and it signals the function's end.\n",
        "def cube(num):\n",
        "    return num * num * num\n",
        "\n",
        "\n",
        "result = cube(4)\n",
        "print(result)"
      ],
      "metadata": {
        "colab": {
          "base_uri": "https://localhost:8080/"
        },
        "id": "lKG3WY1TLd9O",
        "outputId": "6337ca01-e88c-4150-ceaa-0daa80fdde0b"
      },
      "execution_count": 21,
      "outputs": [
        {
          "output_type": "stream",
          "name": "stdout",
          "text": [
            "64\n"
          ]
        }
      ]
    },
    {
      "cell_type": "code",
      "source": [
        "# \"if\" keyword is followed by one or more logical conditions.\n",
        "# \"else\" keyword executes if the condition in \"if\" statement is not satisfied.\n",
        "is_male = True\n",
        "is_tall = True\n",
        "\n",
        "if is_male or is_tall:\n",
        "    print(\"You are a male or tall or both.\")\n",
        "else:\n",
        "    print(\"You are neither male nor tall.\")\n",
        "\n",
        "# If multiple logical conditions are chained together, they have to be separated by \"and\" or \"or\" keywords.\n",
        "is_male = False\n",
        "is_tall = False\n",
        "\n",
        "if is_male or is_tall:\n",
        "    print(\"You are a male or tall or both.\")\n",
        "else:\n",
        "    print(\"You are neither male nor tall.\")\n",
        "\n",
        "is_male = True\n",
        "is_tall = True\n",
        "\n",
        "if is_male and is_tall:\n",
        "    print(\"You are a tall male.\")\n",
        "else:\n",
        "    print(\"You are either not male or not tall or both.\")\n",
        "\n",
        "is_male = True\n",
        "is_tall = False\n",
        "\n",
        "if is_male and is_tall:\n",
        "    print(\"You are a tall male.\")\n",
        "else:\n",
        "    print(\"You are either not male or not tall or both.\")\n",
        "\n",
        "# If the \"if\" condition is not met, \"elif\" statements can be used to further branch the block of code.\n",
        "# \"else\" statement always comes at the end of the block.\n",
        "is_male = True\n",
        "is_tall = False\n",
        "\n",
        "if is_male and is_tall:\n",
        "    print(\"You are a tall male.\")\n",
        "elif is_male and not(is_tall):\n",
        "    print(\"You are a short male.\")\n",
        "elif not(is_male) and is_tall:\n",
        "    print(\"You are not a male, but are tall.\")\n",
        "else:\n",
        "    print(\"You are either not male or not tall or both.\")"
      ],
      "metadata": {
        "colab": {
          "base_uri": "https://localhost:8080/"
        },
        "id": "nvMLtyXnM7ec",
        "outputId": "3a3a92a3-c2f0-4576-9122-64203ceac9f9"
      },
      "execution_count": 22,
      "outputs": [
        {
          "output_type": "stream",
          "name": "stdout",
          "text": [
            "You are a male or tall or both.\n",
            "You are neither male nor tall.\n",
            "You are a tall male.\n",
            "You are either not male or not tall or both.\n",
            "You are a short male.\n"
          ]
        }
      ]
    },
    {
      "cell_type": "code",
      "source": [
        "# Multiple conditions in the code can be checked even through a function.\n",
        "def max_num(num1, num2, num3):\n",
        "    if num1 >= num2 and num1 >= num3:\n",
        "        return num1\n",
        "    elif num2 >= num1 and num2 >= num3:\n",
        "        return num2\n",
        "    else:\n",
        "        return num3\n",
        "\n",
        "\n",
        "print(max_num(300, 40, 5))"
      ],
      "metadata": {
        "colab": {
          "base_uri": "https://localhost:8080/"
        },
        "id": "pWhp-gquM7hW",
        "outputId": "45423204-e74a-4189-b7f3-0b177ff0ee7d"
      },
      "execution_count": 23,
      "outputs": [
        {
          "output_type": "stream",
          "name": "stdout",
          "text": [
            "300\n"
          ]
        }
      ]
    },
    {
      "cell_type": "code",
      "source": [
        "# Calculator can be defined through if statements; desired mathematical operations are given by the user as input.\n",
        "num1 = float(input(\"Enter first number: \"))\n",
        "op = input(\"Enter operator: \")\n",
        "num2 = float(input(\"Enter second number: \"))\n",
        "\n",
        "if op == \"+\":\n",
        "    print(num1 + num2)\n",
        "elif op == \"-\":\n",
        "    print(num1 - num2)\n",
        "elif op == \"*\":\n",
        "    print(num1 * num2)\n",
        "elif op == \"/\":\n",
        "    print(num1 / num2)\n",
        "else:\n",
        "    print(\"Invalid operator.\")"
      ],
      "metadata": {
        "colab": {
          "base_uri": "https://localhost:8080/"
        },
        "id": "jJmvLz8ZM7jm",
        "outputId": "bd59ebcf-3141-472d-dada-8ca0827aaf97"
      },
      "execution_count": 25,
      "outputs": [
        {
          "output_type": "stream",
          "name": "stdout",
          "text": [
            "Enter first number: 56\n",
            "Enter operator: -\n",
            "Enter second number: 67.9\n",
            "-11.900000000000006\n"
          ]
        }
      ]
    },
    {
      "cell_type": "code",
      "source": [
        "# Dictionaries are defined by using \"{}\" and inserting elements between these brackets.\n",
        "month_conversions = {\n",
        "    \"Jan\": \"January\",\n",
        "    \"Feb\": \"February\",\n",
        "    \"Mar\": \"March\",\n",
        "    \"Apr\": \"April\",\n",
        "    \"May\": \"May\",\n",
        "    \"Jun\": \"June\",\n",
        "    \"Jul\": \"July\",\n",
        "    \"Aug\": \"August\",\n",
        "    \"Sep\": \"September\",\n",
        "    \"Oct\": \"October\",\n",
        "    \"Nov\": \"November\",\n",
        "    \"Dec\": \"December\"\n",
        "}\n",
        "\n",
        "# Keys have to be UNIQUE!\n",
        "print(month_conversions)\n",
        "print(month_conversions[\"Nov\"])\n",
        "print(month_conversions.get(\"Dec\"))\n",
        "\n",
        "# \"None\" is printed if the key is not present in the dictionary.\n",
        "print(month_conversions.get(\"Par\"))\n",
        "\n",
        "# Default value if the key value is not found.\n",
        "print(month_conversions.get(\"Par\", \"Not a valid key.\"))\n",
        "\n",
        "# Key-value pairs in dictionary do not have to be of the same data type.\n",
        "month_conversions = {\n",
        "    0: \"January\",\n",
        "    1: \"February\",\n",
        "    2: \"March\",\n",
        "    3: \"April\",\n",
        "    4: \"May\",\n",
        "    5: \"June\",\n",
        "    \"Jul\": \"July\",\n",
        "    \"Aug\": \"August\",\n",
        "    \"Sep\": \"September\",\n",
        "    \"Oct\": \"October\",\n",
        "    \"Nov\": \"November\",\n",
        "    \"Dec\": \"December\"\n",
        "}"
      ],
      "metadata": {
        "colab": {
          "base_uri": "https://localhost:8080/"
        },
        "id": "Dvtagm51NnqR",
        "outputId": "a98bd383-f9ad-4316-cd8a-7b1d65ce96f8"
      },
      "execution_count": 26,
      "outputs": [
        {
          "output_type": "stream",
          "name": "stdout",
          "text": [
            "{'Jan': 'January', 'Feb': 'February', 'Mar': 'March', 'Apr': 'April', 'May': 'May', 'Jun': 'June', 'Jul': 'July', 'Aug': 'August', 'Sep': 'September', 'Oct': 'October', 'Nov': 'November', 'Dec': 'December'}\n",
            "November\n",
            "December\n",
            "None\n",
            "Not a valid key.\n"
          ]
        }
      ]
    },
    {
      "cell_type": "code",
      "source": [
        "# \"while\" loop is executed while the logical condition are met.\n",
        "i = 1\n",
        "while i <= 10:\n",
        "    print(i)\n",
        "    i += 1\n",
        "\n",
        "print(\"Done with loop.\")"
      ],
      "metadata": {
        "colab": {
          "base_uri": "https://localhost:8080/"
        },
        "id": "Oo0v5BW1Nnst",
        "outputId": "d562332b-b811-4d5e-9614-9183094103c8"
      },
      "execution_count": 27,
      "outputs": [
        {
          "output_type": "stream",
          "name": "stdout",
          "text": [
            "1\n",
            "2\n",
            "3\n",
            "4\n",
            "5\n",
            "6\n",
            "7\n",
            "8\n",
            "9\n",
            "10\n",
            "Done with loop.\n"
          ]
        }
      ]
    },
    {
      "cell_type": "code",
      "source": [
        "# Secret word is defined and user has 3 attempts to try to guess it in order to win.\n",
        "secret_word = \"Giraffe\"\n",
        "guess = \"\"\n",
        "guess_count = 0\n",
        "guess_limit = 3\n",
        "out_of_guesses = False\n",
        "\n",
        "# \"while\" loop checks if the user has guessed the word and that the user is not of guesses.\n",
        "# \"if\" statement checks if the number of time the user has guessed is less than the limit.\n",
        "while guess != secret_word and not out_of_guesses:\n",
        "    if guess_count < guess_limit:\n",
        "        guess = input(\"Enter guess: \")\n",
        "        guess_count += 1\n",
        "    else:\n",
        "        out_of_guesses = True\n",
        "\n",
        "# Final \"if\" statement prints the result of the game.\n",
        "if out_of_guesses:\n",
        "    print(\"Out of guesses, you lose!\")\n",
        "else:\n",
        "    print(\"You win!\")"
      ],
      "metadata": {
        "colab": {
          "base_uri": "https://localhost:8080/"
        },
        "id": "uWwvQEoHNnu5",
        "outputId": "35908b59-a291-4f56-b4c6-3ffa5861e725"
      },
      "execution_count": 28,
      "outputs": [
        {
          "output_type": "stream",
          "name": "stdout",
          "text": [
            "Enter guess: bunny\n",
            "Enter guess: Giraffe\n",
            "You win!\n"
          ]
        }
      ]
    },
    {
      "cell_type": "code",
      "source": [
        "# \"for\" loops are useful in looping through a given object.\n",
        "for letter in \"Giraffe Academy\":\n",
        "    print(letter)\n",
        "\n",
        "# The naming of the variable by which the loop is performed provisional.\n",
        "friends = [\"Jim\", \"Karen\", \"Kevin\"]\n",
        "for friend in friends:\n",
        "    print(friend)\n",
        "\n",
        "# \"range\" function is especially useful in \"for\" loops.\n",
        "for index in range(10):\n",
        "    print(index)\n",
        "for index in range(3, 10):\n",
        "    print(index)\n",
        "\n",
        "# \"len\" function can be used to loop by the number of elements in the object.\n",
        "for index in range(len(friends)):\n",
        "    print(index)\n",
        "for index in range(len(friends)):\n",
        "    print(friends[index])\n",
        "\n",
        "# \"for\" loops can be combined with \"if\" statements.\n",
        "for index in range(5):\n",
        "    if index == 0:\n",
        "        print(\"First iteration.\")\n",
        "    else:\n",
        "        print(\"Not first.\")"
      ],
      "metadata": {
        "colab": {
          "base_uri": "https://localhost:8080/"
        },
        "id": "nS91avaYNnxO",
        "outputId": "e862bfb5-dc17-400e-cc0a-4bc672ef78d4"
      },
      "execution_count": 29,
      "outputs": [
        {
          "output_type": "stream",
          "name": "stdout",
          "text": [
            "G\n",
            "i\n",
            "r\n",
            "a\n",
            "f\n",
            "f\n",
            "e\n",
            " \n",
            "A\n",
            "c\n",
            "a\n",
            "d\n",
            "e\n",
            "m\n",
            "y\n",
            "Jim\n",
            "Karen\n",
            "Kevin\n",
            "0\n",
            "1\n",
            "2\n",
            "3\n",
            "4\n",
            "5\n",
            "6\n",
            "7\n",
            "8\n",
            "9\n",
            "3\n",
            "4\n",
            "5\n",
            "6\n",
            "7\n",
            "8\n",
            "9\n",
            "0\n",
            "1\n",
            "2\n",
            "Jim\n",
            "Karen\n",
            "Kevin\n",
            "First iteration.\n",
            "Not first.\n",
            "Not first.\n",
            "Not first.\n",
            "Not first.\n"
          ]
        }
      ]
    },
    {
      "cell_type": "code",
      "source": [
        "# Function that raises base number to a provisional power is defined by the following block of code.\n",
        "def raise_to_power(base_num, power_num):\n",
        "    result = 1\n",
        "    for index in range(power_num):\n",
        "        result = result * base_num\n",
        "    return result\n",
        "\n",
        "\n",
        "print(raise_to_power(3, 4))"
      ],
      "metadata": {
        "colab": {
          "base_uri": "https://localhost:8080/"
        },
        "id": "ywsGGxIONn0y",
        "outputId": "3ff36a26-8552-4c88-ad0d-7df95f68bf17"
      },
      "execution_count": 30,
      "outputs": [
        {
          "output_type": "stream",
          "name": "stdout",
          "text": [
            "81\n"
          ]
        }
      ]
    },
    {
      "cell_type": "code",
      "source": [
        "3**4"
      ],
      "metadata": {
        "colab": {
          "base_uri": "https://localhost:8080/"
        },
        "id": "MIGamqgOM7mL",
        "outputId": "61438dd2-d894-4cb9-ab43-6117ce73b6bc"
      },
      "execution_count": 31,
      "outputs": [
        {
          "output_type": "execute_result",
          "data": {
            "text/plain": [
              "81"
            ]
          },
          "metadata": {},
          "execution_count": 31
        }
      ]
    },
    {
      "cell_type": "code",
      "source": [
        "def fun(a,b):\n",
        "  return a**b\n",
        "fun(3,4)"
      ],
      "metadata": {
        "colab": {
          "base_uri": "https://localhost:8080/"
        },
        "id": "_PACy61XM7os",
        "outputId": "c7bf7e22-b090-4d40-b8b8-4d13a0371691"
      },
      "execution_count": 33,
      "outputs": [
        {
          "output_type": "execute_result",
          "data": {
            "text/plain": [
              "81"
            ]
          },
          "metadata": {},
          "execution_count": 33
        }
      ]
    },
    {
      "cell_type": "code",
      "source": [
        "# 2D lists are defined by using consecutive \"[]\" brackets.\n",
        "number_grid = [\n",
        "    [1, 2, 3],\n",
        "    [4, 5, 6],\n",
        "    [7, 8, 9],\n",
        "    [0]\n",
        "]\n",
        "\n",
        "# This piece of code will print the element in the third row and second column.\n",
        "print(number_grid[2][1])\n",
        "\n",
        "# Nested loops can loop through a 2D list.\n",
        "for row in number_grid:\n",
        "    for column in row:\n",
        "        print(column)\n",
        "\n",
        "# The looping can be done with a condition.\n",
        "for row in number_grid:\n",
        "    for column in row:\n",
        "        if column % 2 == 0:\n",
        "            print(column)"
      ],
      "metadata": {
        "colab": {
          "base_uri": "https://localhost:8080/"
        },
        "id": "YOnjD92PM7sJ",
        "outputId": "eed2be87-4746-47df-938f-6f5d771d0df4"
      },
      "execution_count": 34,
      "outputs": [
        {
          "output_type": "stream",
          "name": "stdout",
          "text": [
            "8\n",
            "1\n",
            "2\n",
            "3\n",
            "4\n",
            "5\n",
            "6\n",
            "7\n",
            "8\n",
            "9\n",
            "0\n",
            "2\n",
            "4\n",
            "6\n",
            "8\n",
            "0\n"
          ]
        }
      ]
    },
    {
      "cell_type": "code",
      "source": [
        "# Nested loops can loop through a 2D list.\n",
        "for row in number_grid:\n",
        "    for column in row:\n",
        "        print(column)\n"
      ],
      "metadata": {
        "colab": {
          "base_uri": "https://localhost:8080/"
        },
        "id": "3LCttnB5LeAm",
        "outputId": "f58ea675-4496-44fe-96b7-08b5993d8bf1"
      },
      "execution_count": 35,
      "outputs": [
        {
          "output_type": "stream",
          "name": "stdout",
          "text": [
            "1\n",
            "2\n",
            "3\n",
            "4\n",
            "5\n",
            "6\n",
            "7\n",
            "8\n",
            "9\n",
            "0\n"
          ]
        }
      ]
    },
    {
      "cell_type": "code",
      "source": [
        "for row in number_grid:\n",
        "    for column in row:\n",
        "        if column % 2 == 0:\n",
        "            print(column)"
      ],
      "metadata": {
        "colab": {
          "base_uri": "https://localhost:8080/"
        },
        "id": "_Ctb1uRtSkeE",
        "outputId": "f34ceb1c-c992-41fd-d9a4-736dbde6d618"
      },
      "execution_count": 36,
      "outputs": [
        {
          "output_type": "stream",
          "name": "stdout",
          "text": [
            "2\n",
            "4\n",
            "6\n",
            "8\n",
            "0\n"
          ]
        }
      ]
    },
    {
      "cell_type": "code",
      "source": [],
      "metadata": {
        "id": "C9-IDrj1sO5M"
      },
      "execution_count": null,
      "outputs": []
    },
    {
      "cell_type": "code",
      "source": [
        "# def func():\n",
        "#   return 1"
      ],
      "metadata": {
        "id": "OKqxzSdeSkgZ"
      },
      "execution_count": 45,
      "outputs": []
    },
    {
      "cell_type": "code",
      "source": [
        "#closure and currying\n",
        "def outer(outer_arg):\n",
        "  def inner(inner_arg):\n",
        "    return inner_arg + outer_arg\n",
        "  return inner"
      ],
      "metadata": {
        "id": "7l_R76r-Skiq"
      },
      "execution_count": 46,
      "outputs": []
    },
    {
      "cell_type": "code",
      "source": [
        "func = outer(10)"
      ],
      "metadata": {
        "id": "MLyWCOaRrvhN"
      },
      "execution_count": 39,
      "outputs": []
    },
    {
      "cell_type": "code",
      "source": [
        "func(5)"
      ],
      "metadata": {
        "colab": {
          "base_uri": "https://localhost:8080/"
        },
        "id": "eLfaBGWoSkk3",
        "outputId": "63150a09-9338-40a7-c6a0-44e8596dd6a9"
      },
      "execution_count": 40,
      "outputs": [
        {
          "output_type": "execute_result",
          "data": {
            "text/plain": [
              "15"
            ]
          },
          "metadata": {},
          "execution_count": 40
        }
      ]
    },
    {
      "cell_type": "code",
      "source": [
        "outer(10)(5)"
      ],
      "metadata": {
        "colab": {
          "base_uri": "https://localhost:8080/"
        },
        "id": "8hY8LcWOSknJ",
        "outputId": "025ff4dd-3c19-4a02-ef88-3caa2b75684b"
      },
      "execution_count": 41,
      "outputs": [
        {
          "output_type": "execute_result",
          "data": {
            "text/plain": [
              "15"
            ]
          },
          "metadata": {},
          "execution_count": 41
        }
      ]
    },
    {
      "cell_type": "code",
      "source": [
        "func.__closure__[0]"
      ],
      "metadata": {
        "colab": {
          "base_uri": "https://localhost:8080/"
        },
        "id": "DDhRqe4DSkpe",
        "outputId": "7917f57c-42b8-4b4b-ed50-ae269542a506"
      },
      "execution_count": 44,
      "outputs": [
        {
          "output_type": "execute_result",
          "data": {
            "text/plain": [
              "<cell at 0x7f8419379ff0: int object at 0x7f84642c0210>"
            ]
          },
          "metadata": {},
          "execution_count": 44
        }
      ]
    },
    {
      "cell_type": "code",
      "source": [
        "import functools as fn\n"
      ],
      "metadata": {
        "id": "PJdwwIYZSkrz"
      },
      "execution_count": 48,
      "outputs": []
    },
    {
      "cell_type": "code",
      "source": [
        "#partial fun\n",
        "def fun(a,b,c):\n",
        "  return a,b,c"
      ],
      "metadata": {
        "id": "KTHCEOOvSkt9"
      },
      "execution_count": 49,
      "outputs": []
    },
    {
      "cell_type": "code",
      "source": [
        "p_fun= fn.partial(fun,10)\n",
        "p_fun(3,4)"
      ],
      "metadata": {
        "colab": {
          "base_uri": "https://localhost:8080/"
        },
        "id": "vYZqWOODSkwL",
        "outputId": "e274f608-52f4-41c1-d59f-8469964d420c"
      },
      "execution_count": 50,
      "outputs": [
        {
          "output_type": "execute_result",
          "data": {
            "text/plain": [
              "(10, 3, 4)"
            ]
          },
          "metadata": {},
          "execution_count": 50
        }
      ]
    },
    {
      "cell_type": "code",
      "source": [
        "p_fun = fn.partial(fun, 10,12)\n",
        "p_fun(3)"
      ],
      "metadata": {
        "colab": {
          "base_uri": "https://localhost:8080/"
        },
        "id": "EB9f2OK7t9ZA",
        "outputId": "f83abdbb-f092-426e-9910-dc79db9502de"
      },
      "execution_count": 52,
      "outputs": [
        {
          "output_type": "execute_result",
          "data": {
            "text/plain": [
              "(10, 12, 3)"
            ]
          },
          "metadata": {},
          "execution_count": 52
        }
      ]
    },
    {
      "cell_type": "code",
      "source": [
        "#recursion\n",
        "\n",
        "def loop(n):\n",
        "  for x in range(int(n)):\n",
        "    a= 1+1\n",
        "def recurse(n):\n",
        "  if n<=0:\n",
        "    return\n",
        "    a = 1+1\n",
        "    recurse(int(n)-1)\n"
      ],
      "metadata": {
        "id": "jW5MtA53t9bu"
      },
      "execution_count": 54,
      "outputs": []
    },
    {
      "cell_type": "code",
      "source": [
        "recurse(5)"
      ],
      "metadata": {
        "id": "Y4vVPPwSt9fP"
      },
      "execution_count": 56,
      "outputs": []
    },
    {
      "cell_type": "code",
      "source": [
        "#lambda\n",
        "def use_cb(cb, arg):\n",
        "  return cb(arg)"
      ],
      "metadata": {
        "id": "-zEmHqPWvkrr"
      },
      "execution_count": 57,
      "outputs": []
    },
    {
      "cell_type": "code",
      "source": [
        "use_cb(lambda arg:arg*2,10)"
      ],
      "metadata": {
        "colab": {
          "base_uri": "https://localhost:8080/"
        },
        "id": "ep5SIYxqvkut",
        "outputId": "f945c9ae-52a0-4129-9842-26994534e742"
      },
      "execution_count": 58,
      "outputs": [
        {
          "output_type": "execute_result",
          "data": {
            "text/plain": [
              "20"
            ]
          },
          "metadata": {},
          "execution_count": 58
        }
      ]
    },
    {
      "cell_type": "code",
      "source": [
        "#list compreshion\n",
        "print(map(lambda arg: arg *2 , range(2,6)))\n"
      ],
      "metadata": {
        "colab": {
          "base_uri": "https://localhost:8080/"
        },
        "id": "RiB7m4W6vkyF",
        "outputId": "bf309833-5dd7-405e-d478-e5bab8ef2eba"
      },
      "execution_count": 60,
      "outputs": [
        {
          "output_type": "stream",
          "name": "stdout",
          "text": [
            "<map object at 0x7f84193f1210>\n"
          ]
        }
      ]
    },
    {
      "cell_type": "code",
      "source": [
        "[x*2 for x in range(2,6)]"
      ],
      "metadata": {
        "colab": {
          "base_uri": "https://localhost:8080/"
        },
        "id": "MOzoOeMlyggO",
        "outputId": "5743721c-be72-414c-df47-b75844c1f8d5"
      },
      "execution_count": 61,
      "outputs": [
        {
          "output_type": "execute_result",
          "data": {
            "text/plain": [
              "[4, 6, 8, 10]"
            ]
          },
          "metadata": {},
          "execution_count": 61
        }
      ]
    },
    {
      "cell_type": "code",
      "source": [
        "#typical use of filter\n",
        "filter(lambda x: x>10 , range(5,16))"
      ],
      "metadata": {
        "colab": {
          "base_uri": "https://localhost:8080/"
        },
        "id": "1mkTZe7Hygjh",
        "outputId": "6bf22da6-540e-4de4-a51e-7401a0f2c8fa"
      },
      "execution_count": 62,
      "outputs": [
        {
          "output_type": "execute_result",
          "data": {
            "text/plain": [
              "<filter at 0x7f8419453310>"
            ]
          },
          "metadata": {},
          "execution_count": 62
        }
      ]
    },
    {
      "cell_type": "code",
      "source": [
        "#replace with list  compreshion\n",
        "[x for x in range(5,16) if x >10]"
      ],
      "metadata": {
        "colab": {
          "base_uri": "https://localhost:8080/"
        },
        "id": "nGtSRniQygm-",
        "outputId": "41a904e5-89e7-4627-c6f7-b932cc4f4134"
      },
      "execution_count": 65,
      "outputs": [
        {
          "output_type": "execute_result",
          "data": {
            "text/plain": [
              "[11, 12, 13, 14, 15]"
            ]
          },
          "metadata": {},
          "execution_count": 65
        }
      ]
    },
    {
      "cell_type": "code",
      "source": [
        "#decorator\n",
        "def decorator(func):\n",
        "  @fn.wraps(func)\n",
        "  def new_func(*args, **kwargs):\n",
        "    print('decorator was here')\n",
        "    return func(*args, **kwargs)\n",
        "  return new_func"
      ],
      "metadata": {
        "id": "5ry9mEAP1QMN"
      },
      "execution_count": 73,
      "outputs": []
    },
    {
      "cell_type": "code",
      "source": [
        "\n",
        "@decorator\n",
        "def add(a,b):\n",
        "  return a+b"
      ],
      "metadata": {
        "id": "McDKTnTx1QO3"
      },
      "execution_count": 74,
      "outputs": []
    },
    {
      "cell_type": "code",
      "source": [
        "add(1,2)"
      ],
      "metadata": {
        "colab": {
          "base_uri": "https://localhost:8080/"
        },
        "id": "Zb__CG9O1QRj",
        "outputId": "f7fe37d9-17a7-4bd8-c32c-c0fa48149971"
      },
      "execution_count": 75,
      "outputs": [
        {
          "output_type": "stream",
          "name": "stdout",
          "text": [
            "decorator was here\n"
          ]
        },
        {
          "output_type": "execute_result",
          "data": {
            "text/plain": [
              "3"
            ]
          },
          "metadata": {},
          "execution_count": 75
        }
      ]
    },
    {
      "cell_type": "code",
      "source": [
        ">>> class Dog:\n",
        "...     species = \"Canis familiaris\"\n",
        "...     def __init__(self, name, age):\n",
        "...         self.name = name\n",
        "...         self.age = age"
      ],
      "metadata": {
        "id": "49xLZtsD1QVB"
      },
      "execution_count": 76,
      "outputs": []
    },
    {
      "cell_type": "code",
      "source": [
        ">>> buddy = Dog(\"Buddy\", 9)\n",
        ">>> miles = Dog(\"Miles\", 4)"
      ],
      "metadata": {
        "id": "aVuku4p26I-g"
      },
      "execution_count": 77,
      "outputs": []
    },
    {
      "cell_type": "code",
      "source": [
        "buddy.name"
      ],
      "metadata": {
        "colab": {
          "base_uri": "https://localhost:8080/",
          "height": 35
        },
        "id": "zpns-U1_6JBK",
        "outputId": "0139016b-1e34-4204-802b-250be5f176de"
      },
      "execution_count": 78,
      "outputs": [
        {
          "output_type": "execute_result",
          "data": {
            "text/plain": [
              "'Buddy'"
            ],
            "application/vnd.google.colaboratory.intrinsic+json": {
              "type": "string"
            }
          },
          "metadata": {},
          "execution_count": 78
        }
      ]
    },
    {
      "cell_type": "code",
      "source": [
        "miles.species"
      ],
      "metadata": {
        "colab": {
          "base_uri": "https://localhost:8080/",
          "height": 35
        },
        "id": "icrshklJ6JDr",
        "outputId": "e2cae962-f885-4ec7-869d-3f26e859d882"
      },
      "execution_count": 79,
      "outputs": [
        {
          "output_type": "execute_result",
          "data": {
            "text/plain": [
              "'Canis familiaris'"
            ],
            "application/vnd.google.colaboratory.intrinsic+json": {
              "type": "string"
            }
          },
          "metadata": {},
          "execution_count": 79
        }
      ]
    },
    {
      "cell_type": "code",
      "source": [
        "miles.age"
      ],
      "metadata": {
        "colab": {
          "base_uri": "https://localhost:8080/"
        },
        "id": "wryTspnL6JGH",
        "outputId": "3355f1e2-83f5-4f9c-ab6e-fcd077c1c2fd"
      },
      "execution_count": 80,
      "outputs": [
        {
          "output_type": "execute_result",
          "data": {
            "text/plain": [
              "4"
            ]
          },
          "metadata": {},
          "execution_count": 80
        }
      ]
    },
    {
      "cell_type": "code",
      "source": [
        "[x*2 for x in range(5)]"
      ],
      "metadata": {
        "colab": {
          "base_uri": "https://localhost:8080/"
        },
        "id": "DYayAStg6JIr",
        "outputId": "04c83833-17f5-4ced-8024-73cab63351b5"
      },
      "execution_count": 82,
      "outputs": [
        {
          "output_type": "execute_result",
          "data": {
            "text/plain": [
              "[0, 2, 4, 6, 8]"
            ]
          },
          "metadata": {},
          "execution_count": 82
        }
      ]
    },
    {
      "cell_type": "code",
      "source": [
        "# from IPython.core.completer import itertools\n",
        "# #module itertools\n",
        "# itertools.izip(\"abc\",\"xyz\")"
      ],
      "metadata": {
        "id": "HFHJi01z6JLP"
      },
      "execution_count": 120,
      "outputs": []
    },
    {
      "cell_type": "code",
      "source": [
        "#map(function, [data])\n",
        "def mult_2(item):\n",
        "  return item*2\n",
        "print(list(map(mult_2, [1,2,3])))"
      ],
      "metadata": {
        "colab": {
          "base_uri": "https://localhost:8080/"
        },
        "id": "aTTI0D4F6JN1",
        "outputId": "93feaee4-0531-44bb-da0b-1258126f8c84"
      },
      "execution_count": 88,
      "outputs": [
        {
          "output_type": "stream",
          "name": "stdout",
          "text": [
            "[2, 4, 6]\n"
          ]
        }
      ]
    },
    {
      "cell_type": "code",
      "source": [
        "#filter\n",
        "my_list= [1,2,3]\n",
        "def only_odd(item):\n",
        "  return (item%2)!=0\n",
        "print(list(filter(only_odd, [1,2,3])))"
      ],
      "metadata": {
        "colab": {
          "base_uri": "https://localhost:8080/"
        },
        "id": "CM0qbSiB6JRM",
        "outputId": "18bb350e-f032-4166-dc76-9b256339e31a"
      },
      "execution_count": 91,
      "outputs": [
        {
          "output_type": "stream",
          "name": "stdout",
          "text": [
            "[1, 3]\n"
          ]
        }
      ]
    },
    {
      "cell_type": "code",
      "source": [
        "your_list= (1,3,6)\n",
        "print(list(zip(my_list, your_list))) #list+tuple"
      ],
      "metadata": {
        "colab": {
          "base_uri": "https://localhost:8080/"
        },
        "id": "M9OkD9lc-wqi",
        "outputId": "aa57f185-174e-4422-fa7d-066a7a684e79"
      },
      "execution_count": 93,
      "outputs": [
        {
          "output_type": "stream",
          "name": "stdout",
          "text": [
            "[(1, 1), (2, 3), (3, 6)]\n"
          ]
        }
      ]
    },
    {
      "cell_type": "code",
      "source": [
        "from functools import reduce\n",
        "def accumulator(acc, item):\n",
        "  print(acc, item)\n",
        "  return acc+item\n",
        "\n",
        "print(reduce(accumulator, my_list ,0))"
      ],
      "metadata": {
        "colab": {
          "base_uri": "https://localhost:8080/"
        },
        "id": "jiWKiMQC-wtQ",
        "outputId": "dc0e44c4-fe14-4176-96c9-2eaf884568c9"
      },
      "execution_count": 99,
      "outputs": [
        {
          "output_type": "stream",
          "name": "stdout",
          "text": [
            "0 1\n",
            "1 2\n",
            "3 3\n",
            "6\n"
          ]
        }
      ]
    },
    {
      "cell_type": "code",
      "source": [
        "#we can use zip, map, filter, reduce with lambda fn"
      ],
      "metadata": {
        "id": "YhMTGmx7-wvc"
      },
      "execution_count": null,
      "outputs": []
    },
    {
      "cell_type": "code",
      "source": [
        "print(reduce(lambda acc,item : acc+item, my_list))"
      ],
      "metadata": {
        "colab": {
          "base_uri": "https://localhost:8080/"
        },
        "id": "Sd2QSS9u-wx9",
        "outputId": "e61faade-3130-4c97-9f02-870d889b2803"
      },
      "execution_count": 100,
      "outputs": [
        {
          "output_type": "stream",
          "name": "stdout",
          "text": [
            "6\n"
          ]
        }
      ]
    },
    {
      "cell_type": "code",
      "source": [
        "print(list(map(lambda x: x**2, my_list)))"
      ],
      "metadata": {
        "colab": {
          "base_uri": "https://localhost:8080/"
        },
        "id": "A3yHFMFI-w0m",
        "outputId": "32236de7-08f2-4709-b396-4a71f5636355"
      },
      "execution_count": 101,
      "outputs": [
        {
          "output_type": "stream",
          "name": "stdout",
          "text": [
            "[1, 4, 9]\n"
          ]
        }
      ]
    },
    {
      "cell_type": "code",
      "source": [
        "a=[(0,2),(4,3),(10,-1),(9,9)]\n",
        "print(a.sort())\n",
        "a.sort(key=lambda x: x[1]) #sort by second element in list\n",
        "print(a)"
      ],
      "metadata": {
        "colab": {
          "base_uri": "https://localhost:8080/"
        },
        "id": "tNTlBAoA-w4E",
        "outputId": "b60f6e09-06dd-447e-9329-66a27574e10b"
      },
      "execution_count": 104,
      "outputs": [
        {
          "output_type": "stream",
          "name": "stdout",
          "text": [
            "None\n",
            "[(10, -1), (0, 2), (4, 3), (9, 9)]\n"
          ]
        }
      ]
    },
    {
      "cell_type": "code",
      "source": [
        "my_l= [x*2 for x in range(0,100) if x%2==0]\n",
        "#my_l\n",
        "#set compreshion same as list"
      ],
      "metadata": {
        "id": "NcARy1eQ-w6z"
      },
      "execution_count": 110,
      "outputs": []
    },
    {
      "cell_type": "code",
      "source": [
        "simple_dict={'a':1,\"b\":2}\n",
        "my_dict ={key:value**2 for key , value in simple_dict.items() if value%2==0}\n",
        "print(my_dict)"
      ],
      "metadata": {
        "colab": {
          "base_uri": "https://localhost:8080/"
        },
        "id": "XLS3MDAi-w-U",
        "outputId": "5a631687-321a-40b1-a886-f228607e2412"
      },
      "execution_count": 113,
      "outputs": [
        {
          "output_type": "stream",
          "name": "stdout",
          "text": [
            "{'b': 4}\n"
          ]
        }
      ]
    },
    {
      "cell_type": "code",
      "source": [
        "my_dict ={x:x*2 for x in[1,2,3]}\n",
        "my_dict"
      ],
      "metadata": {
        "colab": {
          "base_uri": "https://localhost:8080/"
        },
        "id": "Q3hQs5bgJK0-",
        "outputId": "9c491c16-4b47-4bcb-dd79-8a98edd3126f"
      },
      "execution_count": 115,
      "outputs": [
        {
          "output_type": "execute_result",
          "data": {
            "text/plain": [
              "{1: 2, 2: 4, 3: 6}"
            ]
          },
          "metadata": {},
          "execution_count": 115
        }
      ]
    },
    {
      "cell_type": "code",
      "source": [
        "some_list=[1,2,3,3,4,4,6,7]\n",
        "duplicates= list(set([x for x in some_list if some_list.count(x)>1]))"
      ],
      "metadata": {
        "id": "9PNSM6BQKNIR"
      },
      "execution_count": 118,
      "outputs": []
    },
    {
      "cell_type": "code",
      "source": [
        "duplicates"
      ],
      "metadata": {
        "colab": {
          "base_uri": "https://localhost:8080/"
        },
        "id": "DwO4B4ifKNK2",
        "outputId": "5e668b48-fc0a-405a-95a4-82f7b24d3932"
      },
      "execution_count": 119,
      "outputs": [
        {
          "output_type": "execute_result",
          "data": {
            "text/plain": [
              "[3, 4]"
            ]
          },
          "metadata": {},
          "execution_count": 119
        }
      ]
    },
    {
      "cell_type": "code",
      "source": [],
      "metadata": {
        "id": "g8ic8PoTKNOH"
      },
      "execution_count": null,
      "outputs": []
    }
  ]
}